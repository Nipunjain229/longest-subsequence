{
  "nbformat": 4,
  "nbformat_minor": 0,
  "metadata": {
    "colab": {
      "provenance": []
    },
    "kernelspec": {
      "name": "python3",
      "display_name": "Python 3"
    },
    "language_info": {
      "name": "python"
    }
  },
  "cells": [
    {
      "cell_type": "code",
      "execution_count": 1,
      "metadata": {
        "id": "dxtrB1CsC1N6"
      },
      "outputs": [],
      "source": [
        "def common_start(sa, sb):\n",
        "    ##\"\"\" returns the longest common substring from the beginning of sa and sb \"\"\"\n",
        "    def _iter():\n",
        "        for a, b in zip(sa, sb):\n",
        "            if a == b:\n",
        "                yield a\n",
        "            else:\n",
        "                return\n",
        "\n",
        "    return ''.join(_iter())"
      ]
    },
    {
      "cell_type": "code",
      "source": [
        "common_start(\"hii\",\"hello\")"
      ],
      "metadata": {
        "colab": {
          "base_uri": "https://localhost:8080/",
          "height": 35
        },
        "id": "4JlRBuEvC7Hi",
        "outputId": "57863735-f49b-400d-81c4-73b3ee59ad61"
      },
      "execution_count": 2,
      "outputs": [
        {
          "output_type": "execute_result",
          "data": {
            "text/plain": [
              "'h'"
            ],
            "application/vnd.google.colaboratory.intrinsic+json": {
              "type": "string"
            }
          },
          "metadata": {},
          "execution_count": 2
        }
      ]
    }
  ]
}